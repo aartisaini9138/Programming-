{
  "cells": [
    {
      "cell_type": "markdown",
      "metadata": {
        "id": "view-in-github",
        "colab_type": "text"
      },
      "source": [
        "<a href=\"https://colab.research.google.com/github/aartisaini9138/Programming-/blob/main/Employee_Attrition_1.ipynb\" target=\"_parent\"><img src=\"https://colab.research.google.com/assets/colab-badge.svg\" alt=\"Open In Colab\"/></a>"
      ]
    },
    {
      "cell_type": "markdown",
      "id": "a4eedbb1",
      "metadata": {
        "id": "a4eedbb1"
      },
      "source": [
        "# Import libraries"
      ]
    },
    {
      "cell_type": "code",
      "execution_count": null,
      "id": "03568b83",
      "metadata": {
        "id": "03568b83"
      },
      "outputs": [],
      "source": [
        "#to handle dataset\n",
        "import pandas as pd\n",
        "import numpy as np\n",
        "\n",
        "#for plotting\n",
        "import seaborn as sns\n",
        "import matplotlib.pyplot as plt\n",
        "\n",
        "import warnings\n",
        "%matplotlib inline\n",
        "\n",
        "# for preprocessing & models\n",
        "from sklearn.model_selection import train_test_split\n",
        "from sklearn.linear_model import LogisticRegression\n",
        "from sklearn.neighbors import KNeighborsClassifier\n",
        "from sklearn.ensemble import RandomForestClassifier\n",
        "from sklearn.preprocessing import StandardScaler\n",
        "from sklearn.metrics import accuracy_score, confusion_matrix, classification_report\n",
        "\n",
        "sns.set_style('darkgrid')\n",
        "warnings.filterwarnings('ignore')"
      ]
    },
    {
      "cell_type": "code",
      "execution_count": null,
      "id": "1f179bbe",
      "metadata": {
        "id": "1f179bbe"
      },
      "outputs": [],
      "source": [
        "#load dataset\n",
        "df=pd.read_csv('MFG10YearTerminationData.csv')"
      ]
    },
    {
      "cell_type": "code",
      "execution_count": null,
      "id": "0dbf1724",
      "metadata": {
        "id": "0dbf1724",
        "outputId": "1f94e404-b761-4941-9396-ca64ef1f56fb"
      },
      "outputs": [
        {
          "data": {
            "text/html": [
              "<div>\n",
              "<style scoped>\n",
              "    .dataframe tbody tr th:only-of-type {\n",
              "        vertical-align: middle;\n",
              "    }\n",
              "\n",
              "    .dataframe tbody tr th {\n",
              "        vertical-align: top;\n",
              "    }\n",
              "\n",
              "    .dataframe thead th {\n",
              "        text-align: right;\n",
              "    }\n",
              "</style>\n",
              "<table border=\"1\" class=\"dataframe\">\n",
              "  <thead>\n",
              "    <tr style=\"text-align: right;\">\n",
              "      <th></th>\n",
              "      <th>EmployeeID</th>\n",
              "      <th>recorddate_key</th>\n",
              "      <th>birthdate_key</th>\n",
              "      <th>orighiredate_key</th>\n",
              "      <th>terminationdate_key</th>\n",
              "      <th>age</th>\n",
              "      <th>length_of_service</th>\n",
              "      <th>city_name</th>\n",
              "      <th>department_name</th>\n",
              "      <th>job_title</th>\n",
              "      <th>store_name</th>\n",
              "      <th>gender_short</th>\n",
              "      <th>gender_full</th>\n",
              "      <th>termreason_desc</th>\n",
              "      <th>termtype_desc</th>\n",
              "      <th>STATUS_YEAR</th>\n",
              "      <th>STATUS</th>\n",
              "      <th>BUSINESS_UNIT</th>\n",
              "    </tr>\n",
              "  </thead>\n",
              "  <tbody>\n",
              "    <tr>\n",
              "      <th>0</th>\n",
              "      <td>1318</td>\n",
              "      <td>12/31/2006 0:00</td>\n",
              "      <td>1/3/1954</td>\n",
              "      <td>8/28/1989</td>\n",
              "      <td>1/1/1900</td>\n",
              "      <td>52</td>\n",
              "      <td>17</td>\n",
              "      <td>Vancouver</td>\n",
              "      <td>Executive</td>\n",
              "      <td>CEO</td>\n",
              "      <td>35</td>\n",
              "      <td>M</td>\n",
              "      <td>Male</td>\n",
              "      <td>Not Applicable</td>\n",
              "      <td>Not Applicable</td>\n",
              "      <td>2006</td>\n",
              "      <td>ACTIVE</td>\n",
              "      <td>HEADOFFICE</td>\n",
              "    </tr>\n",
              "    <tr>\n",
              "      <th>1</th>\n",
              "      <td>1318</td>\n",
              "      <td>12/31/2007 0:00</td>\n",
              "      <td>1/3/1954</td>\n",
              "      <td>8/28/1989</td>\n",
              "      <td>1/1/1900</td>\n",
              "      <td>53</td>\n",
              "      <td>18</td>\n",
              "      <td>Vancouver</td>\n",
              "      <td>Executive</td>\n",
              "      <td>CEO</td>\n",
              "      <td>35</td>\n",
              "      <td>M</td>\n",
              "      <td>Male</td>\n",
              "      <td>Not Applicable</td>\n",
              "      <td>Not Applicable</td>\n",
              "      <td>2007</td>\n",
              "      <td>ACTIVE</td>\n",
              "      <td>HEADOFFICE</td>\n",
              "    </tr>\n",
              "    <tr>\n",
              "      <th>2</th>\n",
              "      <td>1318</td>\n",
              "      <td>12/31/2008 0:00</td>\n",
              "      <td>1/3/1954</td>\n",
              "      <td>8/28/1989</td>\n",
              "      <td>1/1/1900</td>\n",
              "      <td>54</td>\n",
              "      <td>19</td>\n",
              "      <td>Vancouver</td>\n",
              "      <td>Executive</td>\n",
              "      <td>CEO</td>\n",
              "      <td>35</td>\n",
              "      <td>M</td>\n",
              "      <td>Male</td>\n",
              "      <td>Not Applicable</td>\n",
              "      <td>Not Applicable</td>\n",
              "      <td>2008</td>\n",
              "      <td>ACTIVE</td>\n",
              "      <td>HEADOFFICE</td>\n",
              "    </tr>\n",
              "    <tr>\n",
              "      <th>3</th>\n",
              "      <td>1318</td>\n",
              "      <td>12/31/2009 0:00</td>\n",
              "      <td>1/3/1954</td>\n",
              "      <td>8/28/1989</td>\n",
              "      <td>1/1/1900</td>\n",
              "      <td>55</td>\n",
              "      <td>20</td>\n",
              "      <td>Vancouver</td>\n",
              "      <td>Executive</td>\n",
              "      <td>CEO</td>\n",
              "      <td>35</td>\n",
              "      <td>M</td>\n",
              "      <td>Male</td>\n",
              "      <td>Not Applicable</td>\n",
              "      <td>Not Applicable</td>\n",
              "      <td>2009</td>\n",
              "      <td>ACTIVE</td>\n",
              "      <td>HEADOFFICE</td>\n",
              "    </tr>\n",
              "    <tr>\n",
              "      <th>4</th>\n",
              "      <td>1318</td>\n",
              "      <td>12/31/2010 0:00</td>\n",
              "      <td>1/3/1954</td>\n",
              "      <td>8/28/1989</td>\n",
              "      <td>1/1/1900</td>\n",
              "      <td>56</td>\n",
              "      <td>21</td>\n",
              "      <td>Vancouver</td>\n",
              "      <td>Executive</td>\n",
              "      <td>CEO</td>\n",
              "      <td>35</td>\n",
              "      <td>M</td>\n",
              "      <td>Male</td>\n",
              "      <td>Not Applicable</td>\n",
              "      <td>Not Applicable</td>\n",
              "      <td>2010</td>\n",
              "      <td>ACTIVE</td>\n",
              "      <td>HEADOFFICE</td>\n",
              "    </tr>\n",
              "  </tbody>\n",
              "</table>\n",
              "</div>"
            ],
            "text/plain": [
              "   EmployeeID   recorddate_key birthdate_key orighiredate_key  \\\n",
              "0        1318  12/31/2006 0:00      1/3/1954        8/28/1989   \n",
              "1        1318  12/31/2007 0:00      1/3/1954        8/28/1989   \n",
              "2        1318  12/31/2008 0:00      1/3/1954        8/28/1989   \n",
              "3        1318  12/31/2009 0:00      1/3/1954        8/28/1989   \n",
              "4        1318  12/31/2010 0:00      1/3/1954        8/28/1989   \n",
              "\n",
              "  terminationdate_key  age  length_of_service  city_name department_name  \\\n",
              "0            1/1/1900   52                 17  Vancouver       Executive   \n",
              "1            1/1/1900   53                 18  Vancouver       Executive   \n",
              "2            1/1/1900   54                 19  Vancouver       Executive   \n",
              "3            1/1/1900   55                 20  Vancouver       Executive   \n",
              "4            1/1/1900   56                 21  Vancouver       Executive   \n",
              "\n",
              "  job_title  store_name gender_short gender_full termreason_desc  \\\n",
              "0       CEO          35            M        Male  Not Applicable   \n",
              "1       CEO          35            M        Male  Not Applicable   \n",
              "2       CEO          35            M        Male  Not Applicable   \n",
              "3       CEO          35            M        Male  Not Applicable   \n",
              "4       CEO          35            M        Male  Not Applicable   \n",
              "\n",
              "    termtype_desc  STATUS_YEAR  STATUS BUSINESS_UNIT  \n",
              "0  Not Applicable         2006  ACTIVE    HEADOFFICE  \n",
              "1  Not Applicable         2007  ACTIVE    HEADOFFICE  \n",
              "2  Not Applicable         2008  ACTIVE    HEADOFFICE  \n",
              "3  Not Applicable         2009  ACTIVE    HEADOFFICE  \n",
              "4  Not Applicable         2010  ACTIVE    HEADOFFICE  "
            ]
          },
          "execution_count": 3,
          "metadata": {},
          "output_type": "execute_result"
        }
      ],
      "source": [
        "df.head()            #show top 5 rows"
      ]
    },
    {
      "cell_type": "code",
      "execution_count": null,
      "id": "2ccbabc3",
      "metadata": {
        "id": "2ccbabc3",
        "outputId": "aeeae60c-a430-4600-ec4f-c62b6610b21d"
      },
      "outputs": [
        {
          "data": {
            "text/html": [
              "<div>\n",
              "<style scoped>\n",
              "    .dataframe tbody tr th:only-of-type {\n",
              "        vertical-align: middle;\n",
              "    }\n",
              "\n",
              "    .dataframe tbody tr th {\n",
              "        vertical-align: top;\n",
              "    }\n",
              "\n",
              "    .dataframe thead th {\n",
              "        text-align: right;\n",
              "    }\n",
              "</style>\n",
              "<table border=\"1\" class=\"dataframe\">\n",
              "  <thead>\n",
              "    <tr style=\"text-align: right;\">\n",
              "      <th></th>\n",
              "      <th>EmployeeID</th>\n",
              "      <th>recorddate_key</th>\n",
              "      <th>birthdate_key</th>\n",
              "      <th>orighiredate_key</th>\n",
              "      <th>terminationdate_key</th>\n",
              "      <th>age</th>\n",
              "      <th>length_of_service</th>\n",
              "      <th>city_name</th>\n",
              "      <th>department_name</th>\n",
              "      <th>job_title</th>\n",
              "      <th>store_name</th>\n",
              "      <th>gender_short</th>\n",
              "      <th>gender_full</th>\n",
              "      <th>termreason_desc</th>\n",
              "      <th>termtype_desc</th>\n",
              "      <th>STATUS_YEAR</th>\n",
              "      <th>STATUS</th>\n",
              "      <th>BUSINESS_UNIT</th>\n",
              "    </tr>\n",
              "  </thead>\n",
              "  <tbody>\n",
              "    <tr>\n",
              "      <th>49648</th>\n",
              "      <td>8258</td>\n",
              "      <td>12/1/2015 0:00</td>\n",
              "      <td>5/28/1994</td>\n",
              "      <td>8/19/2013</td>\n",
              "      <td>12/30/2015</td>\n",
              "      <td>21</td>\n",
              "      <td>2</td>\n",
              "      <td>Valemount</td>\n",
              "      <td>Dairy</td>\n",
              "      <td>Dairy Person</td>\n",
              "      <td>34</td>\n",
              "      <td>M</td>\n",
              "      <td>Male</td>\n",
              "      <td>Layoff</td>\n",
              "      <td>Involuntary</td>\n",
              "      <td>2015</td>\n",
              "      <td>TERMINATED</td>\n",
              "      <td>STORES</td>\n",
              "    </tr>\n",
              "    <tr>\n",
              "      <th>49649</th>\n",
              "      <td>8264</td>\n",
              "      <td>8/1/2013 0:00</td>\n",
              "      <td>6/13/1994</td>\n",
              "      <td>8/27/2013</td>\n",
              "      <td>8/30/2013</td>\n",
              "      <td>19</td>\n",
              "      <td>0</td>\n",
              "      <td>Vancouver</td>\n",
              "      <td>Customer Service</td>\n",
              "      <td>Cashier</td>\n",
              "      <td>44</td>\n",
              "      <td>F</td>\n",
              "      <td>Female</td>\n",
              "      <td>Resignaton</td>\n",
              "      <td>Voluntary</td>\n",
              "      <td>2013</td>\n",
              "      <td>TERMINATED</td>\n",
              "      <td>STORES</td>\n",
              "    </tr>\n",
              "    <tr>\n",
              "      <th>49650</th>\n",
              "      <td>8279</td>\n",
              "      <td>12/1/2015 0:00</td>\n",
              "      <td>7/18/1994</td>\n",
              "      <td>9/15/2013</td>\n",
              "      <td>12/30/2015</td>\n",
              "      <td>21</td>\n",
              "      <td>2</td>\n",
              "      <td>White Rock</td>\n",
              "      <td>Customer Service</td>\n",
              "      <td>Cashier</td>\n",
              "      <td>39</td>\n",
              "      <td>F</td>\n",
              "      <td>Female</td>\n",
              "      <td>Layoff</td>\n",
              "      <td>Involuntary</td>\n",
              "      <td>2015</td>\n",
              "      <td>TERMINATED</td>\n",
              "      <td>STORES</td>\n",
              "    </tr>\n",
              "    <tr>\n",
              "      <th>49651</th>\n",
              "      <td>8296</td>\n",
              "      <td>12/1/2013 0:00</td>\n",
              "      <td>9/2/1994</td>\n",
              "      <td>10/9/2013</td>\n",
              "      <td>12/31/2013</td>\n",
              "      <td>19</td>\n",
              "      <td>0</td>\n",
              "      <td>Kelowna</td>\n",
              "      <td>Customer Service</td>\n",
              "      <td>Cashier</td>\n",
              "      <td>16</td>\n",
              "      <td>F</td>\n",
              "      <td>Female</td>\n",
              "      <td>Resignaton</td>\n",
              "      <td>Voluntary</td>\n",
              "      <td>2013</td>\n",
              "      <td>TERMINATED</td>\n",
              "      <td>STORES</td>\n",
              "    </tr>\n",
              "    <tr>\n",
              "      <th>49652</th>\n",
              "      <td>8321</td>\n",
              "      <td>12/1/2014 0:00</td>\n",
              "      <td>11/28/1994</td>\n",
              "      <td>11/24/2013</td>\n",
              "      <td>12/30/2014</td>\n",
              "      <td>20</td>\n",
              "      <td>1</td>\n",
              "      <td>Grand Forks</td>\n",
              "      <td>Customer Service</td>\n",
              "      <td>Cashier</td>\n",
              "      <td>13</td>\n",
              "      <td>F</td>\n",
              "      <td>Female</td>\n",
              "      <td>Layoff</td>\n",
              "      <td>Involuntary</td>\n",
              "      <td>2014</td>\n",
              "      <td>TERMINATED</td>\n",
              "      <td>STORES</td>\n",
              "    </tr>\n",
              "  </tbody>\n",
              "</table>\n",
              "</div>"
            ],
            "text/plain": [
              "       EmployeeID  recorddate_key birthdate_key orighiredate_key  \\\n",
              "49648        8258  12/1/2015 0:00     5/28/1994        8/19/2013   \n",
              "49649        8264   8/1/2013 0:00     6/13/1994        8/27/2013   \n",
              "49650        8279  12/1/2015 0:00     7/18/1994        9/15/2013   \n",
              "49651        8296  12/1/2013 0:00      9/2/1994        10/9/2013   \n",
              "49652        8321  12/1/2014 0:00    11/28/1994       11/24/2013   \n",
              "\n",
              "      terminationdate_key  age  length_of_service    city_name  \\\n",
              "49648          12/30/2015   21                  2    Valemount   \n",
              "49649           8/30/2013   19                  0    Vancouver   \n",
              "49650          12/30/2015   21                  2   White Rock   \n",
              "49651          12/31/2013   19                  0      Kelowna   \n",
              "49652          12/30/2014   20                  1  Grand Forks   \n",
              "\n",
              "        department_name     job_title  store_name gender_short gender_full  \\\n",
              "49648             Dairy  Dairy Person          34            M        Male   \n",
              "49649  Customer Service       Cashier          44            F      Female   \n",
              "49650  Customer Service       Cashier          39            F      Female   \n",
              "49651  Customer Service       Cashier          16            F      Female   \n",
              "49652  Customer Service       Cashier          13            F      Female   \n",
              "\n",
              "      termreason_desc termtype_desc  STATUS_YEAR      STATUS BUSINESS_UNIT  \n",
              "49648          Layoff   Involuntary         2015  TERMINATED        STORES  \n",
              "49649      Resignaton     Voluntary         2013  TERMINATED        STORES  \n",
              "49650          Layoff   Involuntary         2015  TERMINATED        STORES  \n",
              "49651      Resignaton     Voluntary         2013  TERMINATED        STORES  \n",
              "49652          Layoff   Involuntary         2014  TERMINATED        STORES  "
            ]
          },
          "execution_count": 4,
          "metadata": {},
          "output_type": "execute_result"
        }
      ],
      "source": [
        "df.tail()            #show last 5 rows"
      ]
    },
    {
      "cell_type": "code",
      "execution_count": null,
      "id": "b2ee538f",
      "metadata": {
        "id": "b2ee538f",
        "outputId": "8235ee81-33cb-4e55-f64e-615fa9541c11"
      },
      "outputs": [
        {
          "data": {
            "text/plain": [
              "(49653, 18)"
            ]
          },
          "execution_count": 5,
          "metadata": {},
          "output_type": "execute_result"
        }
      ],
      "source": [
        "df.shape           #rows and column of the data"
      ]
    },
    {
      "cell_type": "code",
      "execution_count": null,
      "id": "b4be9c1d",
      "metadata": {
        "id": "b4be9c1d",
        "outputId": "f101c8b5-db55-4056-8832-a6d323b98198"
      },
      "outputs": [
        {
          "name": "stdout",
          "output_type": "stream",
          "text": [
            "<class 'pandas.core.frame.DataFrame'>\n",
            "RangeIndex: 49653 entries, 0 to 49652\n",
            "Data columns (total 18 columns):\n",
            " #   Column               Non-Null Count  Dtype \n",
            "---  ------               --------------  ----- \n",
            " 0   EmployeeID           49653 non-null  int64 \n",
            " 1   recorddate_key       49653 non-null  object\n",
            " 2   birthdate_key        49653 non-null  object\n",
            " 3   orighiredate_key     49653 non-null  object\n",
            " 4   terminationdate_key  49653 non-null  object\n",
            " 5   age                  49653 non-null  int64 \n",
            " 6   length_of_service    49653 non-null  int64 \n",
            " 7   city_name            49653 non-null  object\n",
            " 8   department_name      49653 non-null  object\n",
            " 9   job_title            49653 non-null  object\n",
            " 10  store_name           49653 non-null  int64 \n",
            " 11  gender_short         49653 non-null  object\n",
            " 12  gender_full          49653 non-null  object\n",
            " 13  termreason_desc      49653 non-null  object\n",
            " 14  termtype_desc        49653 non-null  object\n",
            " 15  STATUS_YEAR          49653 non-null  int64 \n",
            " 16  STATUS               49653 non-null  object\n",
            " 17  BUSINESS_UNIT        49653 non-null  object\n",
            "dtypes: int64(5), object(13)\n",
            "memory usage: 6.8+ MB\n"
          ]
        }
      ],
      "source": [
        "df.info()"
      ]
    },
    {
      "cell_type": "code",
      "execution_count": null,
      "id": "ee1f35b5",
      "metadata": {
        "id": "ee1f35b5",
        "outputId": "a90f9715-3fb7-4246-f12e-b0e7c1367236"
      },
      "outputs": [
        {
          "data": {
            "text/html": [
              "<div>\n",
              "<style scoped>\n",
              "    .dataframe tbody tr th:only-of-type {\n",
              "        vertical-align: middle;\n",
              "    }\n",
              "\n",
              "    .dataframe tbody tr th {\n",
              "        vertical-align: top;\n",
              "    }\n",
              "\n",
              "    .dataframe thead th {\n",
              "        text-align: right;\n",
              "    }\n",
              "</style>\n",
              "<table border=\"1\" class=\"dataframe\">\n",
              "  <thead>\n",
              "    <tr style=\"text-align: right;\">\n",
              "      <th></th>\n",
              "      <th>EmployeeID</th>\n",
              "      <th>age</th>\n",
              "      <th>length_of_service</th>\n",
              "      <th>store_name</th>\n",
              "      <th>STATUS_YEAR</th>\n",
              "    </tr>\n",
              "  </thead>\n",
              "  <tbody>\n",
              "    <tr>\n",
              "      <th>count</th>\n",
              "      <td>49653.000000</td>\n",
              "      <td>49653.000000</td>\n",
              "      <td>49653.000000</td>\n",
              "      <td>49653.000000</td>\n",
              "      <td>49653.000000</td>\n",
              "    </tr>\n",
              "    <tr>\n",
              "      <th>mean</th>\n",
              "      <td>4859.495740</td>\n",
              "      <td>42.077035</td>\n",
              "      <td>10.434596</td>\n",
              "      <td>27.297605</td>\n",
              "      <td>2010.612612</td>\n",
              "    </tr>\n",
              "    <tr>\n",
              "      <th>std</th>\n",
              "      <td>1826.571142</td>\n",
              "      <td>12.427257</td>\n",
              "      <td>6.325286</td>\n",
              "      <td>13.514134</td>\n",
              "      <td>2.845577</td>\n",
              "    </tr>\n",
              "    <tr>\n",
              "      <th>min</th>\n",
              "      <td>1318.000000</td>\n",
              "      <td>19.000000</td>\n",
              "      <td>0.000000</td>\n",
              "      <td>1.000000</td>\n",
              "      <td>2006.000000</td>\n",
              "    </tr>\n",
              "    <tr>\n",
              "      <th>25%</th>\n",
              "      <td>3360.000000</td>\n",
              "      <td>31.000000</td>\n",
              "      <td>5.000000</td>\n",
              "      <td>16.000000</td>\n",
              "      <td>2008.000000</td>\n",
              "    </tr>\n",
              "    <tr>\n",
              "      <th>50%</th>\n",
              "      <td>5031.000000</td>\n",
              "      <td>42.000000</td>\n",
              "      <td>10.000000</td>\n",
              "      <td>28.000000</td>\n",
              "      <td>2011.000000</td>\n",
              "    </tr>\n",
              "    <tr>\n",
              "      <th>75%</th>\n",
              "      <td>6335.000000</td>\n",
              "      <td>53.000000</td>\n",
              "      <td>15.000000</td>\n",
              "      <td>42.000000</td>\n",
              "      <td>2013.000000</td>\n",
              "    </tr>\n",
              "    <tr>\n",
              "      <th>max</th>\n",
              "      <td>8336.000000</td>\n",
              "      <td>65.000000</td>\n",
              "      <td>26.000000</td>\n",
              "      <td>46.000000</td>\n",
              "      <td>2015.000000</td>\n",
              "    </tr>\n",
              "  </tbody>\n",
              "</table>\n",
              "</div>"
            ],
            "text/plain": [
              "         EmployeeID           age  length_of_service    store_name  \\\n",
              "count  49653.000000  49653.000000       49653.000000  49653.000000   \n",
              "mean    4859.495740     42.077035          10.434596     27.297605   \n",
              "std     1826.571142     12.427257           6.325286     13.514134   \n",
              "min     1318.000000     19.000000           0.000000      1.000000   \n",
              "25%     3360.000000     31.000000           5.000000     16.000000   \n",
              "50%     5031.000000     42.000000          10.000000     28.000000   \n",
              "75%     6335.000000     53.000000          15.000000     42.000000   \n",
              "max     8336.000000     65.000000          26.000000     46.000000   \n",
              "\n",
              "        STATUS_YEAR  \n",
              "count  49653.000000  \n",
              "mean    2010.612612  \n",
              "std        2.845577  \n",
              "min     2006.000000  \n",
              "25%     2008.000000  \n",
              "50%     2011.000000  \n",
              "75%     2013.000000  \n",
              "max     2015.000000  "
            ]
          },
          "execution_count": 7,
          "metadata": {},
          "output_type": "execute_result"
        }
      ],
      "source": [
        "df.describe()"
      ]
    },
    {
      "cell_type": "code",
      "execution_count": null,
      "id": "8b00d59c",
      "metadata": {
        "id": "8b00d59c",
        "outputId": "801cd996-264d-470e-8397-520c71bdfda2"
      },
      "outputs": [
        {
          "data": {
            "text/html": [
              "<div>\n",
              "<style scoped>\n",
              "    .dataframe tbody tr th:only-of-type {\n",
              "        vertical-align: middle;\n",
              "    }\n",
              "\n",
              "    .dataframe tbody tr th {\n",
              "        vertical-align: top;\n",
              "    }\n",
              "\n",
              "    .dataframe thead th {\n",
              "        text-align: right;\n",
              "    }\n",
              "</style>\n",
              "<table border=\"1\" class=\"dataframe\">\n",
              "  <thead>\n",
              "    <tr style=\"text-align: right;\">\n",
              "      <th></th>\n",
              "      <th>count</th>\n",
              "      <th>mean</th>\n",
              "      <th>std</th>\n",
              "      <th>min</th>\n",
              "      <th>25%</th>\n",
              "      <th>50%</th>\n",
              "      <th>75%</th>\n",
              "      <th>max</th>\n",
              "    </tr>\n",
              "  </thead>\n",
              "  <tbody>\n",
              "    <tr>\n",
              "      <th>EmployeeID</th>\n",
              "      <td>49653.0</td>\n",
              "      <td>4859.495740</td>\n",
              "      <td>1826.571142</td>\n",
              "      <td>1318.0</td>\n",
              "      <td>3360.0</td>\n",
              "      <td>5031.0</td>\n",
              "      <td>6335.0</td>\n",
              "      <td>8336.0</td>\n",
              "    </tr>\n",
              "    <tr>\n",
              "      <th>age</th>\n",
              "      <td>49653.0</td>\n",
              "      <td>42.077035</td>\n",
              "      <td>12.427257</td>\n",
              "      <td>19.0</td>\n",
              "      <td>31.0</td>\n",
              "      <td>42.0</td>\n",
              "      <td>53.0</td>\n",
              "      <td>65.0</td>\n",
              "    </tr>\n",
              "    <tr>\n",
              "      <th>length_of_service</th>\n",
              "      <td>49653.0</td>\n",
              "      <td>10.434596</td>\n",
              "      <td>6.325286</td>\n",
              "      <td>0.0</td>\n",
              "      <td>5.0</td>\n",
              "      <td>10.0</td>\n",
              "      <td>15.0</td>\n",
              "      <td>26.0</td>\n",
              "    </tr>\n",
              "    <tr>\n",
              "      <th>store_name</th>\n",
              "      <td>49653.0</td>\n",
              "      <td>27.297605</td>\n",
              "      <td>13.514134</td>\n",
              "      <td>1.0</td>\n",
              "      <td>16.0</td>\n",
              "      <td>28.0</td>\n",
              "      <td>42.0</td>\n",
              "      <td>46.0</td>\n",
              "    </tr>\n",
              "    <tr>\n",
              "      <th>STATUS_YEAR</th>\n",
              "      <td>49653.0</td>\n",
              "      <td>2010.612612</td>\n",
              "      <td>2.845577</td>\n",
              "      <td>2006.0</td>\n",
              "      <td>2008.0</td>\n",
              "      <td>2011.0</td>\n",
              "      <td>2013.0</td>\n",
              "      <td>2015.0</td>\n",
              "    </tr>\n",
              "  </tbody>\n",
              "</table>\n",
              "</div>"
            ],
            "text/plain": [
              "                     count         mean          std     min     25%     50%  \\\n",
              "EmployeeID         49653.0  4859.495740  1826.571142  1318.0  3360.0  5031.0   \n",
              "age                49653.0    42.077035    12.427257    19.0    31.0    42.0   \n",
              "length_of_service  49653.0    10.434596     6.325286     0.0     5.0    10.0   \n",
              "store_name         49653.0    27.297605    13.514134     1.0    16.0    28.0   \n",
              "STATUS_YEAR        49653.0  2010.612612     2.845577  2006.0  2008.0  2011.0   \n",
              "\n",
              "                      75%     max  \n",
              "EmployeeID         6335.0  8336.0  \n",
              "age                  53.0    65.0  \n",
              "length_of_service    15.0    26.0  \n",
              "store_name           42.0    46.0  \n",
              "STATUS_YEAR        2013.0  2015.0  "
            ]
          },
          "execution_count": 8,
          "metadata": {},
          "output_type": "execute_result"
        }
      ],
      "source": [
        "df.describe().T       #change column into row"
      ]
    },
    {
      "cell_type": "markdown",
      "id": "422be8c9",
      "metadata": {
        "id": "422be8c9"
      },
      "source": [
        "# missing values"
      ]
    },
    {
      "cell_type": "code",
      "execution_count": null,
      "id": "f2be49b5",
      "metadata": {
        "id": "f2be49b5",
        "outputId": "55ee668e-4929-4efe-bc71-988e0bd97556"
      },
      "outputs": [
        {
          "data": {
            "text/plain": [
              "EmployeeID             0\n",
              "recorddate_key         0\n",
              "birthdate_key          0\n",
              "orighiredate_key       0\n",
              "terminationdate_key    0\n",
              "age                    0\n",
              "length_of_service      0\n",
              "city_name              0\n",
              "department_name        0\n",
              "job_title              0\n",
              "store_name             0\n",
              "gender_short           0\n",
              "gender_full            0\n",
              "termreason_desc        0\n",
              "termtype_desc          0\n",
              "STATUS_YEAR            0\n",
              "STATUS                 0\n",
              "BUSINESS_UNIT          0\n",
              "dtype: int64"
            ]
          },
          "execution_count": 9,
          "metadata": {},
          "output_type": "execute_result"
        }
      ],
      "source": [
        "#missing values\n",
        "df.isnull().sum()"
      ]
    },
    {
      "cell_type": "code",
      "execution_count": null,
      "id": "c46cf766",
      "metadata": {
        "id": "c46cf766",
        "outputId": "13d080e2-3871-48d6-b2c5-2677c31cb672"
      },
      "outputs": [
        {
          "data": {
            "text/html": [
              "<div>\n",
              "<style scoped>\n",
              "    .dataframe tbody tr th:only-of-type {\n",
              "        vertical-align: middle;\n",
              "    }\n",
              "\n",
              "    .dataframe tbody tr th {\n",
              "        vertical-align: top;\n",
              "    }\n",
              "\n",
              "    .dataframe thead th {\n",
              "        text-align: right;\n",
              "    }\n",
              "</style>\n",
              "<table border=\"1\" class=\"dataframe\">\n",
              "  <thead>\n",
              "    <tr style=\"text-align: right;\">\n",
              "      <th></th>\n",
              "      <th>EmployeeID</th>\n",
              "      <th>recorddate_key</th>\n",
              "      <th>birthdate_key</th>\n",
              "      <th>orighiredate_key</th>\n",
              "      <th>terminationdate_key</th>\n",
              "      <th>age</th>\n",
              "      <th>length_of_service</th>\n",
              "      <th>city_name</th>\n",
              "      <th>department_name</th>\n",
              "      <th>job_title</th>\n",
              "      <th>store_name</th>\n",
              "      <th>gender_short</th>\n",
              "      <th>gender_full</th>\n",
              "      <th>termreason_desc</th>\n",
              "      <th>termtype_desc</th>\n",
              "      <th>STATUS_YEAR</th>\n",
              "      <th>STATUS</th>\n",
              "      <th>BUSINESS_UNIT</th>\n",
              "    </tr>\n",
              "  </thead>\n",
              "  <tbody>\n",
              "  </tbody>\n",
              "</table>\n",
              "</div>"
            ],
            "text/plain": [
              "Empty DataFrame\n",
              "Columns: [EmployeeID, recorddate_key, birthdate_key, orighiredate_key, terminationdate_key, age, length_of_service, city_name, department_name, job_title, store_name, gender_short, gender_full, termreason_desc, termtype_desc, STATUS_YEAR, STATUS, BUSINESS_UNIT]\n",
              "Index: []"
            ]
          },
          "execution_count": 10,
          "metadata": {},
          "output_type": "execute_result"
        }
      ],
      "source": [
        "df[df.duplicated()]               #check duplicate rows"
      ]
    },
    {
      "cell_type": "markdown",
      "id": "7981eecb",
      "metadata": {
        "id": "7981eecb"
      },
      "source": [
        "# Data cleaning"
      ]
    },
    {
      "cell_type": "code",
      "execution_count": null,
      "id": "8070f5d7",
      "metadata": {
        "id": "8070f5d7"
      },
      "outputs": [],
      "source": [
        "#for droping some columns...\n",
        "df.drop(['EmployeeID', 'birthdate_key', 'recorddate_key', 'gender_full'], axis=1, inplace=True)"
      ]
    },
    {
      "cell_type": "code",
      "execution_count": null,
      "id": "a926a161",
      "metadata": {
        "id": "a926a161",
        "outputId": "0f07f764-bb1e-409d-bd88-85bca8ebc0f1"
      },
      "outputs": [
        {
          "data": {
            "text/html": [
              "<div>\n",
              "<style scoped>\n",
              "    .dataframe tbody tr th:only-of-type {\n",
              "        vertical-align: middle;\n",
              "    }\n",
              "\n",
              "    .dataframe tbody tr th {\n",
              "        vertical-align: top;\n",
              "    }\n",
              "\n",
              "    .dataframe thead th {\n",
              "        text-align: right;\n",
              "    }\n",
              "</style>\n",
              "<table border=\"1\" class=\"dataframe\">\n",
              "  <thead>\n",
              "    <tr style=\"text-align: right;\">\n",
              "      <th></th>\n",
              "      <th>orighiredate_key</th>\n",
              "      <th>terminationdate_key</th>\n",
              "      <th>age</th>\n",
              "      <th>length_of_service</th>\n",
              "      <th>city_name</th>\n",
              "      <th>department_name</th>\n",
              "      <th>job_title</th>\n",
              "      <th>store_name</th>\n",
              "      <th>gender_short</th>\n",
              "      <th>termreason_desc</th>\n",
              "      <th>termtype_desc</th>\n",
              "      <th>STATUS_YEAR</th>\n",
              "      <th>STATUS</th>\n",
              "      <th>BUSINESS_UNIT</th>\n",
              "    </tr>\n",
              "  </thead>\n",
              "  <tbody>\n",
              "    <tr>\n",
              "      <th>0</th>\n",
              "      <td>8/28/1989</td>\n",
              "      <td>1/1/1900</td>\n",
              "      <td>52</td>\n",
              "      <td>17</td>\n",
              "      <td>Vancouver</td>\n",
              "      <td>Executive</td>\n",
              "      <td>CEO</td>\n",
              "      <td>35</td>\n",
              "      <td>M</td>\n",
              "      <td>Not Applicable</td>\n",
              "      <td>Not Applicable</td>\n",
              "      <td>2006</td>\n",
              "      <td>ACTIVE</td>\n",
              "      <td>HEADOFFICE</td>\n",
              "    </tr>\n",
              "    <tr>\n",
              "      <th>1</th>\n",
              "      <td>8/28/1989</td>\n",
              "      <td>1/1/1900</td>\n",
              "      <td>53</td>\n",
              "      <td>18</td>\n",
              "      <td>Vancouver</td>\n",
              "      <td>Executive</td>\n",
              "      <td>CEO</td>\n",
              "      <td>35</td>\n",
              "      <td>M</td>\n",
              "      <td>Not Applicable</td>\n",
              "      <td>Not Applicable</td>\n",
              "      <td>2007</td>\n",
              "      <td>ACTIVE</td>\n",
              "      <td>HEADOFFICE</td>\n",
              "    </tr>\n",
              "    <tr>\n",
              "      <th>2</th>\n",
              "      <td>8/28/1989</td>\n",
              "      <td>1/1/1900</td>\n",
              "      <td>54</td>\n",
              "      <td>19</td>\n",
              "      <td>Vancouver</td>\n",
              "      <td>Executive</td>\n",
              "      <td>CEO</td>\n",
              "      <td>35</td>\n",
              "      <td>M</td>\n",
              "      <td>Not Applicable</td>\n",
              "      <td>Not Applicable</td>\n",
              "      <td>2008</td>\n",
              "      <td>ACTIVE</td>\n",
              "      <td>HEADOFFICE</td>\n",
              "    </tr>\n",
              "    <tr>\n",
              "      <th>3</th>\n",
              "      <td>8/28/1989</td>\n",
              "      <td>1/1/1900</td>\n",
              "      <td>55</td>\n",
              "      <td>20</td>\n",
              "      <td>Vancouver</td>\n",
              "      <td>Executive</td>\n",
              "      <td>CEO</td>\n",
              "      <td>35</td>\n",
              "      <td>M</td>\n",
              "      <td>Not Applicable</td>\n",
              "      <td>Not Applicable</td>\n",
              "      <td>2009</td>\n",
              "      <td>ACTIVE</td>\n",
              "      <td>HEADOFFICE</td>\n",
              "    </tr>\n",
              "    <tr>\n",
              "      <th>4</th>\n",
              "      <td>8/28/1989</td>\n",
              "      <td>1/1/1900</td>\n",
              "      <td>56</td>\n",
              "      <td>21</td>\n",
              "      <td>Vancouver</td>\n",
              "      <td>Executive</td>\n",
              "      <td>CEO</td>\n",
              "      <td>35</td>\n",
              "      <td>M</td>\n",
              "      <td>Not Applicable</td>\n",
              "      <td>Not Applicable</td>\n",
              "      <td>2010</td>\n",
              "      <td>ACTIVE</td>\n",
              "      <td>HEADOFFICE</td>\n",
              "    </tr>\n",
              "  </tbody>\n",
              "</table>\n",
              "</div>"
            ],
            "text/plain": [
              "  orighiredate_key terminationdate_key  age  length_of_service  city_name  \\\n",
              "0        8/28/1989            1/1/1900   52                 17  Vancouver   \n",
              "1        8/28/1989            1/1/1900   53                 18  Vancouver   \n",
              "2        8/28/1989            1/1/1900   54                 19  Vancouver   \n",
              "3        8/28/1989            1/1/1900   55                 20  Vancouver   \n",
              "4        8/28/1989            1/1/1900   56                 21  Vancouver   \n",
              "\n",
              "  department_name job_title  store_name gender_short termreason_desc  \\\n",
              "0       Executive       CEO          35            M  Not Applicable   \n",
              "1       Executive       CEO          35            M  Not Applicable   \n",
              "2       Executive       CEO          35            M  Not Applicable   \n",
              "3       Executive       CEO          35            M  Not Applicable   \n",
              "4       Executive       CEO          35            M  Not Applicable   \n",
              "\n",
              "    termtype_desc  STATUS_YEAR  STATUS BUSINESS_UNIT  \n",
              "0  Not Applicable         2006  ACTIVE    HEADOFFICE  \n",
              "1  Not Applicable         2007  ACTIVE    HEADOFFICE  \n",
              "2  Not Applicable         2008  ACTIVE    HEADOFFICE  \n",
              "3  Not Applicable         2009  ACTIVE    HEADOFFICE  \n",
              "4  Not Applicable         2010  ACTIVE    HEADOFFICE  "
            ]
          },
          "execution_count": 12,
          "metadata": {},
          "output_type": "execute_result"
        }
      ],
      "source": [
        "df.head()"
      ]
    },
    {
      "cell_type": "code",
      "execution_count": null,
      "id": "b68c5090",
      "metadata": {
        "id": "b68c5090",
        "outputId": "7205a26e-6721-45d9-a853-81f9cafd8cbe"
      },
      "outputs": [
        {
          "data": {
            "text/plain": [
              "array(['Vancouver', 'Terrace', 'Nanaimo', 'Nelson', 'Kelowna', 'Victoria',\n",
              "       'Kamloops', 'Fort St John', 'Surrey', 'Vernon', 'Quesnel',\n",
              "       'Chilliwack', 'Dawson Creek', 'Squamish', 'New Westminster',\n",
              "       'Port Coquitlam', 'Cortes Island', 'Burnaby', 'Bella Bella',\n",
              "       'Cranbrook', 'Williams Lake', 'Trail', 'Prince George', 'Richmond',\n",
              "       'Grand Forks', 'West Vancouver', 'Abbotsford', 'Aldergrove',\n",
              "       'Langley', 'North Vancouver', 'White Rock', 'New Westminister',\n",
              "       'Fort Nelson', 'Haney', 'Valemount', 'Ocean Falls', 'Princeton',\n",
              "       'Dease Lake', 'Pitt Meadows', 'Blue River'], dtype=object)"
            ]
          },
          "execution_count": 13,
          "metadata": {},
          "output_type": "execute_result"
        }
      ],
      "source": [
        "#unique values in city name....\n",
        "df.city_name.unique()"
      ]
    },
    {
      "cell_type": "code",
      "execution_count": null,
      "id": "6e2edfc3",
      "metadata": {
        "id": "6e2edfc3",
        "outputId": "f2c36f38-34e5-4687-9bc5-9d022a04825a"
      },
      "outputs": [
        {
          "data": {
            "text/plain": [
              "array(['Executive', 'Store Management', 'Meats', 'Recruitment',\n",
              "       'Training', 'Labor Relations', 'HR Technology', 'Employee Records',\n",
              "       'Compensation', 'Legal', 'Produce', 'Accounts Receiveable',\n",
              "       'Bakery', 'Information Technology', 'Accounts Payable', 'Audit',\n",
              "       'Accounting', 'Investment', 'Dairy', 'Processed Foods',\n",
              "       'Customer Service'], dtype=object)"
            ]
          },
          "execution_count": 14,
          "metadata": {},
          "output_type": "execute_result"
        }
      ],
      "source": [
        "#unique name in department name....\n",
        "df.department_name.unique()"
      ]
    },
    {
      "cell_type": "code",
      "execution_count": null,
      "id": "98e1790a",
      "metadata": {
        "id": "98e1790a",
        "outputId": "38b02594-7a17-4882-f1ee-b81fa4f7fa8c"
      },
      "outputs": [
        {
          "data": {
            "text/plain": [
              "array(['CEO', 'VP Stores', 'Legal Counsel', 'VP Human Resources',\n",
              "       'VP Finance', 'Exec Assistant, VP Stores',\n",
              "       'Exec Assistant, Legal Counsel', 'CHief Information Officer',\n",
              "       'Store Manager', 'Meats Manager',\n",
              "       'Exec Assistant, Human Resources', 'Exec Assistant, Finance',\n",
              "       'Director, Recruitment', 'Director, Training',\n",
              "       'Director, Labor Relations', 'Director, HR Technology',\n",
              "       'Director, Employee Records', 'Director, Compensation',\n",
              "       'Corporate Lawyer', 'Produce Manager',\n",
              "       'Director, Accounts Receivable', 'Bakery Manager',\n",
              "       'Systems Analyst', 'Director, Accounts Payable', 'Director, Audit',\n",
              "       'Director, Accounting', 'Director, Investments', 'Dairy Person',\n",
              "       'Recruiter', 'Processed Foods Manager', 'Customer Service Manager',\n",
              "       'Trainer', 'Meat Cutter', 'Labor Relations Analyst',\n",
              "       'Dairy Manager', 'HRIS Analyst', 'Benefits Admin',\n",
              "       'Compensation Analyst', 'Accounts Receiveable Clerk',\n",
              "       'Accounts Payable Clerk', 'Baker', 'Auditor', 'Accounting Clerk',\n",
              "       'Investment Analyst', 'Produce Clerk', 'Shelf Stocker', 'Cashier'],\n",
              "      dtype=object)"
            ]
          },
          "execution_count": 15,
          "metadata": {},
          "output_type": "execute_result"
        }
      ],
      "source": [
        "#unique values in job title...\n",
        "df.job_title.unique()"
      ]
    },
    {
      "cell_type": "code",
      "execution_count": null,
      "id": "65495118",
      "metadata": {
        "id": "65495118",
        "outputId": "9b77da8d-9898-44a8-c5ac-e00bfccde4d3"
      },
      "outputs": [
        {
          "data": {
            "text/plain": [
              "array(['Not Applicable', 'Retirement', 'Resignaton', 'Layoff'],\n",
              "      dtype=object)"
            ]
          },
          "execution_count": 16,
          "metadata": {},
          "output_type": "execute_result"
        }
      ],
      "source": [
        "#unique values in termreason_desc....\n",
        "df.termreason_desc.unique()"
      ]
    },
    {
      "cell_type": "code",
      "execution_count": null,
      "id": "4a6e1853",
      "metadata": {
        "id": "4a6e1853",
        "outputId": "7215d4b7-442a-4689-e547-ad2c188729f2"
      },
      "outputs": [
        {
          "data": {
            "text/plain": [
              "array(['Not Applicable', 'Voluntary', 'Involuntary'], dtype=object)"
            ]
          },
          "execution_count": 17,
          "metadata": {},
          "output_type": "execute_result"
        }
      ],
      "source": [
        "#unique values in termtype_desc...\n",
        "df.termtype_desc.unique()"
      ]
    },
    {
      "cell_type": "code",
      "execution_count": null,
      "id": "24e4f982",
      "metadata": {
        "id": "24e4f982",
        "outputId": "8e61f23d-f63d-40f7-e964-c019feeb8322"
      },
      "outputs": [
        {
          "data": {
            "text/plain": [
              "array(['HEADOFFICE', 'STORES'], dtype=object)"
            ]
          },
          "execution_count": 18,
          "metadata": {},
          "output_type": "execute_result"
        }
      ],
      "source": [
        "#unique vales in BUSINESS_UNIT....\n",
        "df.\tBUSINESS_UNIT.unique()"
      ]
    },
    {
      "cell_type": "code",
      "execution_count": null,
      "id": "339392cb",
      "metadata": {
        "id": "339392cb"
      },
      "outputs": [],
      "source": [
        "#change city name \n",
        "\n",
        "city_population = {\n",
        "    'Vancouver':2313328,\n",
        "     'Victoria':289625,\n",
        "     'Nanaimo':84905,\n",
        "     'New Westminster':58549,\n",
        "     'Kelowna':125109,\n",
        "     'Burnaby':202799,\n",
        "     'Kamloops':68714,\n",
        "     'Prince George':65558,\n",
        "     'Cranbrook':18610,\n",
        "     'Surrey':394976,\n",
        "     'Richmond':182000,\n",
        "     'Terrace':19443,\n",
        "     'Chilliwack':77000,\n",
        "     'Trail':9707,\n",
        "     'Langley':23606,\n",
        "     'Vernon':47274,\n",
        "     'Squamish':19512,\n",
        "     'Quesnel':13799,\n",
        "     'Abbotsford':151683,\n",
        "     'North Vancouver':48000,\n",
        "     'Fort St John':17402,\n",
        "     'Williams Lake':14168,\n",
        "     'West Vancouver':42694,\n",
        "     'Port Coquitlam':114565,\n",
        "     'Aldergrove':12363,\n",
        "     'Fort Nelson':3561,\n",
        "     'Nelson':9813,\n",
        "     'New Westminister':58549,\n",
        "     'Grand Forks':4049,\n",
        "     'White Rock':66450,\n",
        "     'Haney':82256,\n",
        "     'Princeton':2828,\n",
        "     'Dawson Creek':10802,\n",
        "     'Bella Bella':1019,\n",
        "     'Ocean Falls':129,\n",
        "     'Pitt Meadows':174410,\n",
        "     'Cortes Island':1042,\n",
        "     'Valemount':1021,\n",
        "     'Dease Lake':335,\n",
        "     'Blue River':157\n",
        "}\n",
        "\n",
        "def change_city_into_city_pop(city):\n",
        "    return city_population(city)\n",
        "\n",
        "df['city_name']=df['city_name'].map(city_population)"
      ]
    },
    {
      "cell_type": "code",
      "execution_count": null,
      "id": "28edbffc",
      "metadata": {
        "id": "28edbffc"
      },
      "outputs": [],
      "source": [
        "# now converting city_name into rural,town and mega....\n",
        "def change_city(population):\n",
        "    str= 'Rural'\n",
        "    if (population>=10000) & (population<100000):str='Town'\n",
        "    if (population>=100000):str='Mega'\n",
        "    return str\n",
        "df['city_name'] = df.city_name.map(change_city)"
      ]
    },
    {
      "cell_type": "code",
      "execution_count": null,
      "id": "83ff8112",
      "metadata": {
        "id": "83ff8112",
        "outputId": "e2b100aa-2ba1-4b88-9c69-e16d7f20e000"
      },
      "outputs": [
        {
          "data": {
            "text/plain": [
              "array(['Mega', 'Town', 'Rural'], dtype=object)"
            ]
          },
          "execution_count": 21,
          "metadata": {},
          "output_type": "execute_result"
        }
      ],
      "source": [
        "df.city_name.unique()\n",
        "#df['city_name'].unique()"
      ]
    },
    {
      "cell_type": "code",
      "execution_count": null,
      "id": "f7cd4496",
      "metadata": {
        "id": "f7cd4496"
      },
      "outputs": [],
      "source": [
        "#converting job_title into 4 categories...\n",
        "\n",
        "board = ['CEO','VP Stores', 'Director, Recruitment', 'VP Human Resources', 'VP Finance', 'Director, Accounts Receivable', \n",
        "         'Director, Accounting', 'Director, Employee Records', 'Director, Accounts Payable', 'Director, HR Technology', \n",
        "         'Director, Investments', 'Director, Labor Relations', 'Director, Audit', 'Director, Training',\n",
        "         'Director, Compensation']\n",
        "\n",
        "executive = [ 'Exec Assistant, VP Stores', 'Exec Assistant, Legal Counsel', 'CHief Information Officer', \n",
        "             'Exec Assistant, Human Resources', 'Exec Assistant, Finance']\n",
        "\n",
        "manager = ['Customer Service Manager', 'Processed Foods Manager', 'Meats Manager',\n",
        "           'Bakery Manager', 'Produce Manager', 'Store Manager', 'Trainer', 'Dairy Manager']\n",
        "\n",
        "employee = ['Meat Cutter', 'Dairy Person', 'Produce Clerk', 'Baker', 'Cashier',\n",
        "            'Shelf Stocker', 'Recruiter', 'HRIS Analyst', 'Accounting Clerk',\n",
        "            'Benefits Admin', 'Labor Relations Analyst', 'Accounts Receiveable Clerk',\n",
        "            'Accounts Payable Clerk', 'Auditor', 'Compensation Analyst',\n",
        "            'Investment Analyst', 'Systems Analyst', 'Corporate Lawyer', 'Legal Counsel']\n",
        "\n",
        "def job_title(job):\n",
        "    if job in board: return 'board'\n",
        "    if job in executive: return 'executive'\n",
        "    if job in manager: return 'manager'\n",
        "    if job in employee: return 'employee'\n",
        "\n",
        "df['job_title'] = df['job_title'].map(job_title)  "
      ]
    },
    {
      "cell_type": "code",
      "execution_count": null,
      "id": "1a035336",
      "metadata": {
        "id": "1a035336",
        "outputId": "a0cdba63-adec-42af-9c57-187148f65e46"
      },
      "outputs": [
        {
          "data": {
            "text/plain": [
              "array(['board', 'employee', 'executive', 'manager'], dtype=object)"
            ]
          },
          "execution_count": 23,
          "metadata": {},
          "output_type": "execute_result"
        }
      ],
      "source": [
        "df.job_title.unique()"
      ]
    },
    {
      "cell_type": "code",
      "execution_count": null,
      "id": "04642338",
      "metadata": {
        "scrolled": true,
        "id": "04642338",
        "outputId": "f2b56df3-960b-4952-afa3-a170f8face40"
      },
      "outputs": [
        {
          "data": {
            "text/html": [
              "<div>\n",
              "<style scoped>\n",
              "    .dataframe tbody tr th:only-of-type {\n",
              "        vertical-align: middle;\n",
              "    }\n",
              "\n",
              "    .dataframe tbody tr th {\n",
              "        vertical-align: top;\n",
              "    }\n",
              "\n",
              "    .dataframe thead th {\n",
              "        text-align: right;\n",
              "    }\n",
              "</style>\n",
              "<table border=\"1\" class=\"dataframe\">\n",
              "  <thead>\n",
              "    <tr style=\"text-align: right;\">\n",
              "      <th></th>\n",
              "      <th>orighiredate_key</th>\n",
              "      <th>terminationdate_key</th>\n",
              "      <th>age</th>\n",
              "      <th>length_of_service</th>\n",
              "      <th>city_name</th>\n",
              "      <th>department_name</th>\n",
              "      <th>job_title</th>\n",
              "      <th>store_name</th>\n",
              "      <th>gender_short</th>\n",
              "      <th>termreason_desc</th>\n",
              "      <th>termtype_desc</th>\n",
              "      <th>STATUS_YEAR</th>\n",
              "      <th>STATUS</th>\n",
              "      <th>BUSINESS_UNIT</th>\n",
              "    </tr>\n",
              "  </thead>\n",
              "  <tbody>\n",
              "    <tr>\n",
              "      <th>0</th>\n",
              "      <td>8/28/1989</td>\n",
              "      <td>1/1/1900</td>\n",
              "      <td>52</td>\n",
              "      <td>17</td>\n",
              "      <td>Mega</td>\n",
              "      <td>Executive</td>\n",
              "      <td>board</td>\n",
              "      <td>35</td>\n",
              "      <td>M</td>\n",
              "      <td>Not Applicable</td>\n",
              "      <td>Not Applicable</td>\n",
              "      <td>2006</td>\n",
              "      <td>ACTIVE</td>\n",
              "      <td>HEADOFFICE</td>\n",
              "    </tr>\n",
              "    <tr>\n",
              "      <th>1</th>\n",
              "      <td>8/28/1989</td>\n",
              "      <td>1/1/1900</td>\n",
              "      <td>53</td>\n",
              "      <td>18</td>\n",
              "      <td>Mega</td>\n",
              "      <td>Executive</td>\n",
              "      <td>board</td>\n",
              "      <td>35</td>\n",
              "      <td>M</td>\n",
              "      <td>Not Applicable</td>\n",
              "      <td>Not Applicable</td>\n",
              "      <td>2007</td>\n",
              "      <td>ACTIVE</td>\n",
              "      <td>HEADOFFICE</td>\n",
              "    </tr>\n",
              "    <tr>\n",
              "      <th>2</th>\n",
              "      <td>8/28/1989</td>\n",
              "      <td>1/1/1900</td>\n",
              "      <td>54</td>\n",
              "      <td>19</td>\n",
              "      <td>Mega</td>\n",
              "      <td>Executive</td>\n",
              "      <td>board</td>\n",
              "      <td>35</td>\n",
              "      <td>M</td>\n",
              "      <td>Not Applicable</td>\n",
              "      <td>Not Applicable</td>\n",
              "      <td>2008</td>\n",
              "      <td>ACTIVE</td>\n",
              "      <td>HEADOFFICE</td>\n",
              "    </tr>\n",
              "    <tr>\n",
              "      <th>3</th>\n",
              "      <td>8/28/1989</td>\n",
              "      <td>1/1/1900</td>\n",
              "      <td>55</td>\n",
              "      <td>20</td>\n",
              "      <td>Mega</td>\n",
              "      <td>Executive</td>\n",
              "      <td>board</td>\n",
              "      <td>35</td>\n",
              "      <td>M</td>\n",
              "      <td>Not Applicable</td>\n",
              "      <td>Not Applicable</td>\n",
              "      <td>2009</td>\n",
              "      <td>ACTIVE</td>\n",
              "      <td>HEADOFFICE</td>\n",
              "    </tr>\n",
              "    <tr>\n",
              "      <th>4</th>\n",
              "      <td>8/28/1989</td>\n",
              "      <td>1/1/1900</td>\n",
              "      <td>56</td>\n",
              "      <td>21</td>\n",
              "      <td>Mega</td>\n",
              "      <td>Executive</td>\n",
              "      <td>board</td>\n",
              "      <td>35</td>\n",
              "      <td>M</td>\n",
              "      <td>Not Applicable</td>\n",
              "      <td>Not Applicable</td>\n",
              "      <td>2010</td>\n",
              "      <td>ACTIVE</td>\n",
              "      <td>HEADOFFICE</td>\n",
              "    </tr>\n",
              "  </tbody>\n",
              "</table>\n",
              "</div>"
            ],
            "text/plain": [
              "  orighiredate_key terminationdate_key  age  length_of_service city_name  \\\n",
              "0        8/28/1989            1/1/1900   52                 17      Mega   \n",
              "1        8/28/1989            1/1/1900   53                 18      Mega   \n",
              "2        8/28/1989            1/1/1900   54                 19      Mega   \n",
              "3        8/28/1989            1/1/1900   55                 20      Mega   \n",
              "4        8/28/1989            1/1/1900   56                 21      Mega   \n",
              "\n",
              "  department_name job_title  store_name gender_short termreason_desc  \\\n",
              "0       Executive     board          35            M  Not Applicable   \n",
              "1       Executive     board          35            M  Not Applicable   \n",
              "2       Executive     board          35            M  Not Applicable   \n",
              "3       Executive     board          35            M  Not Applicable   \n",
              "4       Executive     board          35            M  Not Applicable   \n",
              "\n",
              "    termtype_desc  STATUS_YEAR  STATUS BUSINESS_UNIT  \n",
              "0  Not Applicable         2006  ACTIVE    HEADOFFICE  \n",
              "1  Not Applicable         2007  ACTIVE    HEADOFFICE  \n",
              "2  Not Applicable         2008  ACTIVE    HEADOFFICE  \n",
              "3  Not Applicable         2009  ACTIVE    HEADOFFICE  \n",
              "4  Not Applicable         2010  ACTIVE    HEADOFFICE  "
            ]
          },
          "execution_count": 24,
          "metadata": {},
          "output_type": "execute_result"
        }
      ],
      "source": [
        "#display dataset after mapping values..\n",
        "\n",
        "df.head()"
      ]
    },
    {
      "cell_type": "code",
      "execution_count": null,
      "id": "ab3151c2",
      "metadata": {
        "id": "ab3151c2",
        "outputId": "ebd0f3c4-15d5-4c4c-8513-ba01f8be85f0"
      },
      "outputs": [
        {
          "data": {
            "text/plain": [
              "Text(0, 0.5, 'Count')"
            ]
          },
          "execution_count": 25,
          "metadata": {},
          "output_type": "execute_result"
        },
        {
          "data": {
            "image/png": "[encoded data removed]",
            "text/plain": [
              "<Figure size 1000x500 with 1 Axes>"
            ]
          },
          "metadata": {},
          "output_type": "display_data"
        }
      ],
      "source": [
        "#barplot of status...\n",
        "\n",
        "status_label = df.STATUS.value_counts()\n",
        "plt.figure(figsize=(10, 5))\n",
        "sns.barplot(status_label.index, status_label);\n",
        "plt.xlabel('STATUS', fontsize=20);\n",
        "plt.ylabel('Count', fontsize=20)"
      ]
    },
    {
      "cell_type": "code",
      "execution_count": null,
      "id": "18a3c9d7",
      "metadata": {
        "id": "18a3c9d7",
        "outputId": "28ae7f46-b7e0-437e-fa36-53cf241519c6"
      },
      "outputs": [
        {
          "data": {
            "image/png": "[encoded data removed]",
            "text/plain": [
              "<Figure size 1000x500 with 1 Axes>"
            ]
          },
          "metadata": {},
          "output_type": "display_data"
        },
        {
          "data": {
            "image/png": "[encoded data removed]",
            "text/plain": [
              "<Figure size 1000x500 with 1 Axes>"
            ]
          },
          "metadata": {},
          "output_type": "display_data"
        },
        {
          "data": {
            "image/png": "[encoded data removed]",
            "text/plain": [
              "<Figure size 1000x500 with 1 Axes>"
            ]
          },
          "metadata": {},
          "output_type": "display_data"
        },
        {
          "data": {
            "image/png": "[encoded data removed]",
            "text/plain": [
              "<Figure size 1000x500 with 1 Axes>"
            ]
          },
          "metadata": {},
          "output_type": "display_data"
        }
      ],
      "source": [
        "#kde plot...\n",
        "\n",
        "for column in ['store_name', 'STATUS_YEAR', 'length_of_service', 'age']:\n",
        "    plt.figure(figsize=(10, 5))\n",
        "    sns.kdeplot(df[column], color = '#32384D', shade = True, label = 'terminated', alpha = 0.5)\n",
        "    plt.title(column, size = 14)"
      ]
    },
    {
      "cell_type": "code",
      "execution_count": null,
      "id": "12ebb137",
      "metadata": {
        "id": "12ebb137",
        "outputId": "ff120b48-672b-49b2-c69e-61a554bd89a8"
      },
      "outputs": [
        {
          "data": {
            "text/html": [
              "<div>\n",
              "<style scoped>\n",
              "    .dataframe tbody tr th:only-of-type {\n",
              "        vertical-align: middle;\n",
              "    }\n",
              "\n",
              "    .dataframe tbody tr th {\n",
              "        vertical-align: top;\n",
              "    }\n",
              "\n",
              "    .dataframe thead th {\n",
              "        text-align: right;\n",
              "    }\n",
              "</style>\n",
              "<table border=\"1\" class=\"dataframe\">\n",
              "  <thead>\n",
              "    <tr style=\"text-align: right;\">\n",
              "      <th></th>\n",
              "      <th>orighiredate_key</th>\n",
              "      <th>terminationdate_key</th>\n",
              "      <th>age</th>\n",
              "      <th>length_of_service</th>\n",
              "      <th>city_name</th>\n",
              "      <th>department_name</th>\n",
              "      <th>job_title</th>\n",
              "      <th>store_name</th>\n",
              "      <th>gender_short</th>\n",
              "      <th>termreason_desc</th>\n",
              "      <th>termtype_desc</th>\n",
              "      <th>STATUS_YEAR</th>\n",
              "      <th>STATUS</th>\n",
              "      <th>BUSINESS_UNIT</th>\n",
              "    </tr>\n",
              "  </thead>\n",
              "  <tbody>\n",
              "    <tr>\n",
              "      <th>0</th>\n",
              "      <td>8/28/1989</td>\n",
              "      <td>1/1/1900</td>\n",
              "      <td>52</td>\n",
              "      <td>17</td>\n",
              "      <td>Mega</td>\n",
              "      <td>Executive</td>\n",
              "      <td>board</td>\n",
              "      <td>35</td>\n",
              "      <td>M</td>\n",
              "      <td>Not Applicable</td>\n",
              "      <td>Not Applicable</td>\n",
              "      <td>2006</td>\n",
              "      <td>ACTIVE</td>\n",
              "      <td>HEADOFFICE</td>\n",
              "    </tr>\n",
              "    <tr>\n",
              "      <th>1</th>\n",
              "      <td>8/28/1989</td>\n",
              "      <td>1/1/1900</td>\n",
              "      <td>53</td>\n",
              "      <td>18</td>\n",
              "      <td>Mega</td>\n",
              "      <td>Executive</td>\n",
              "      <td>board</td>\n",
              "      <td>35</td>\n",
              "      <td>M</td>\n",
              "      <td>Not Applicable</td>\n",
              "      <td>Not Applicable</td>\n",
              "      <td>2007</td>\n",
              "      <td>ACTIVE</td>\n",
              "      <td>HEADOFFICE</td>\n",
              "    </tr>\n",
              "    <tr>\n",
              "      <th>2</th>\n",
              "      <td>8/28/1989</td>\n",
              "      <td>1/1/1900</td>\n",
              "      <td>54</td>\n",
              "      <td>19</td>\n",
              "      <td>Mega</td>\n",
              "      <td>Executive</td>\n",
              "      <td>board</td>\n",
              "      <td>35</td>\n",
              "      <td>M</td>\n",
              "      <td>Not Applicable</td>\n",
              "      <td>Not Applicable</td>\n",
              "      <td>2008</td>\n",
              "      <td>ACTIVE</td>\n",
              "      <td>HEADOFFICE</td>\n",
              "    </tr>\n",
              "    <tr>\n",
              "      <th>3</th>\n",
              "      <td>8/28/1989</td>\n",
              "      <td>1/1/1900</td>\n",
              "      <td>55</td>\n",
              "      <td>20</td>\n",
              "      <td>Mega</td>\n",
              "      <td>Executive</td>\n",
              "      <td>board</td>\n",
              "      <td>35</td>\n",
              "      <td>M</td>\n",
              "      <td>Not Applicable</td>\n",
              "      <td>Not Applicable</td>\n",
              "      <td>2009</td>\n",
              "      <td>ACTIVE</td>\n",
              "      <td>HEADOFFICE</td>\n",
              "    </tr>\n",
              "    <tr>\n",
              "      <th>4</th>\n",
              "      <td>8/28/1989</td>\n",
              "      <td>1/1/1900</td>\n",
              "      <td>56</td>\n",
              "      <td>21</td>\n",
              "      <td>Mega</td>\n",
              "      <td>Executive</td>\n",
              "      <td>board</td>\n",
              "      <td>35</td>\n",
              "      <td>M</td>\n",
              "      <td>Not Applicable</td>\n",
              "      <td>Not Applicable</td>\n",
              "      <td>2010</td>\n",
              "      <td>ACTIVE</td>\n",
              "      <td>HEADOFFICE</td>\n",
              "    </tr>\n",
              "  </tbody>\n",
              "</table>\n",
              "</div>"
            ],
            "text/plain": [
              "  orighiredate_key terminationdate_key  age  length_of_service city_name  \\\n",
              "0        8/28/1989            1/1/1900   52                 17      Mega   \n",
              "1        8/28/1989            1/1/1900   53                 18      Mega   \n",
              "2        8/28/1989            1/1/1900   54                 19      Mega   \n",
              "3        8/28/1989            1/1/1900   55                 20      Mega   \n",
              "4        8/28/1989            1/1/1900   56                 21      Mega   \n",
              "\n",
              "  department_name job_title  store_name gender_short termreason_desc  \\\n",
              "0       Executive     board          35            M  Not Applicable   \n",
              "1       Executive     board          35            M  Not Applicable   \n",
              "2       Executive     board          35            M  Not Applicable   \n",
              "3       Executive     board          35            M  Not Applicable   \n",
              "4       Executive     board          35            M  Not Applicable   \n",
              "\n",
              "    termtype_desc  STATUS_YEAR  STATUS BUSINESS_UNIT  \n",
              "0  Not Applicable         2006  ACTIVE    HEADOFFICE  \n",
              "1  Not Applicable         2007  ACTIVE    HEADOFFICE  \n",
              "2  Not Applicable         2008  ACTIVE    HEADOFFICE  \n",
              "3  Not Applicable         2009  ACTIVE    HEADOFFICE  \n",
              "4  Not Applicable         2010  ACTIVE    HEADOFFICE  "
            ]
          },
          "execution_count": 27,
          "metadata": {},
          "output_type": "execute_result"
        }
      ],
      "source": [
        "df.head()"
      ]
    },
    {
      "cell_type": "code",
      "execution_count": null,
      "id": "1f6064bc",
      "metadata": {
        "id": "1f6064bc"
      },
      "outputs": [],
      "source": [
        "#preprocessing of dataset...\n",
        "\n",
        "city_name_label = {value: key for key, value in enumerate(df['city_name'].unique())}\n",
        "df['city_name'] = df['city_name'].map(city_name_label)\n",
        "\n",
        "department_name_label = {value: key for key, value in enumerate(df['department_name'].unique())}\n",
        "df['department_name'] = df['department_name'].map(department_name_label)\n",
        "\n",
        "job_title_label = {value: key for key, value in enumerate(df['job_title'].unique())}\n",
        "df['job_title'] = df['job_title'].map(job_title_label)\n",
        "\n",
        "gender_short_label = {value: key for key, value in enumerate(df['gender_short'].unique())}\n",
        "df['gender_short'] = df['gender_short'].map(gender_short_label)\n",
        "\n",
        "term_desc_label = {value: key for key, value in enumerate(df['termreason_desc'].unique())}\n",
        "df['termreason_desc'] = df['termreason_desc'].map(term_desc_label)\n",
        "\n",
        "termtype_desc_label = {value: key for key, value in enumerate(df['termtype_desc'].unique())}\n",
        "df['termtype_desc'] = df['termtype_desc'].map(termtype_desc_label)\n",
        "\n",
        "status_label = {value: key for key, value in enumerate(df['STATUS'].unique())}\n",
        "df['STATUS'] = df['STATUS'].map(status_label)\n",
        "\n",
        "business_label = {value: key for key, value in enumerate(df['BUSINESS_UNIT'].unique())}\n",
        "df['BUSINESS_UNIT'] = df['BUSINESS_UNIT'].map(business_label)"
      ]
    },
    {
      "cell_type": "code",
      "execution_count": null,
      "id": "5e0c8c78",
      "metadata": {
        "id": "5e0c8c78",
        "outputId": "dc964d11-cc5b-43b1-9227-0bba3fe0bdff"
      },
      "outputs": [
        {
          "data": {
            "text/html": [
              "<div>\n",
              "<style scoped>\n",
              "    .dataframe tbody tr th:only-of-type {\n",
              "        vertical-align: middle;\n",
              "    }\n",
              "\n",
              "    .dataframe tbody tr th {\n",
              "        vertical-align: top;\n",
              "    }\n",
              "\n",
              "    .dataframe thead th {\n",
              "        text-align: right;\n",
              "    }\n",
              "</style>\n",
              "<table border=\"1\" class=\"dataframe\">\n",
              "  <thead>\n",
              "    <tr style=\"text-align: right;\">\n",
              "      <th></th>\n",
              "      <th>orighiredate_key</th>\n",
              "      <th>terminationdate_key</th>\n",
              "      <th>age</th>\n",
              "      <th>length_of_service</th>\n",
              "      <th>city_name</th>\n",
              "      <th>department_name</th>\n",
              "      <th>job_title</th>\n",
              "      <th>store_name</th>\n",
              "      <th>gender_short</th>\n",
              "      <th>termreason_desc</th>\n",
              "      <th>termtype_desc</th>\n",
              "      <th>STATUS_YEAR</th>\n",
              "      <th>STATUS</th>\n",
              "      <th>BUSINESS_UNIT</th>\n",
              "    </tr>\n",
              "  </thead>\n",
              "  <tbody>\n",
              "    <tr>\n",
              "      <th>0</th>\n",
              "      <td>8/28/1989</td>\n",
              "      <td>1/1/1900</td>\n",
              "      <td>52</td>\n",
              "      <td>17</td>\n",
              "      <td>0</td>\n",
              "      <td>0</td>\n",
              "      <td>0</td>\n",
              "      <td>35</td>\n",
              "      <td>0</td>\n",
              "      <td>0</td>\n",
              "      <td>0</td>\n",
              "      <td>2006</td>\n",
              "      <td>0</td>\n",
              "      <td>0</td>\n",
              "    </tr>\n",
              "    <tr>\n",
              "      <th>1</th>\n",
              "      <td>8/28/1989</td>\n",
              "      <td>1/1/1900</td>\n",
              "      <td>53</td>\n",
              "      <td>18</td>\n",
              "      <td>0</td>\n",
              "      <td>0</td>\n",
              "      <td>0</td>\n",
              "      <td>35</td>\n",
              "      <td>0</td>\n",
              "      <td>0</td>\n",
              "      <td>0</td>\n",
              "      <td>2007</td>\n",
              "      <td>0</td>\n",
              "      <td>0</td>\n",
              "    </tr>\n",
              "    <tr>\n",
              "      <th>2</th>\n",
              "      <td>8/28/1989</td>\n",
              "      <td>1/1/1900</td>\n",
              "      <td>54</td>\n",
              "      <td>19</td>\n",
              "      <td>0</td>\n",
              "      <td>0</td>\n",
              "      <td>0</td>\n",
              "      <td>35</td>\n",
              "      <td>0</td>\n",
              "      <td>0</td>\n",
              "      <td>0</td>\n",
              "      <td>2008</td>\n",
              "      <td>0</td>\n",
              "      <td>0</td>\n",
              "    </tr>\n",
              "    <tr>\n",
              "      <th>3</th>\n",
              "      <td>8/28/1989</td>\n",
              "      <td>1/1/1900</td>\n",
              "      <td>55</td>\n",
              "      <td>20</td>\n",
              "      <td>0</td>\n",
              "      <td>0</td>\n",
              "      <td>0</td>\n",
              "      <td>35</td>\n",
              "      <td>0</td>\n",
              "      <td>0</td>\n",
              "      <td>0</td>\n",
              "      <td>2009</td>\n",
              "      <td>0</td>\n",
              "      <td>0</td>\n",
              "    </tr>\n",
              "    <tr>\n",
              "      <th>4</th>\n",
              "      <td>8/28/1989</td>\n",
              "      <td>1/1/1900</td>\n",
              "      <td>56</td>\n",
              "      <td>21</td>\n",
              "      <td>0</td>\n",
              "      <td>0</td>\n",
              "      <td>0</td>\n",
              "      <td>35</td>\n",
              "      <td>0</td>\n",
              "      <td>0</td>\n",
              "      <td>0</td>\n",
              "      <td>2010</td>\n",
              "      <td>0</td>\n",
              "      <td>0</td>\n",
              "    </tr>\n",
              "  </tbody>\n",
              "</table>\n",
              "</div>"
            ],
            "text/plain": [
              "  orighiredate_key terminationdate_key  age  length_of_service  city_name  \\\n",
              "0        8/28/1989            1/1/1900   52                 17          0   \n",
              "1        8/28/1989            1/1/1900   53                 18          0   \n",
              "2        8/28/1989            1/1/1900   54                 19          0   \n",
              "3        8/28/1989            1/1/1900   55                 20          0   \n",
              "4        8/28/1989            1/1/1900   56                 21          0   \n",
              "\n",
              "   department_name  job_title  store_name  gender_short  termreason_desc  \\\n",
              "0                0          0          35             0                0   \n",
              "1                0          0          35             0                0   \n",
              "2                0          0          35             0                0   \n",
              "3                0          0          35             0                0   \n",
              "4                0          0          35             0                0   \n",
              "\n",
              "   termtype_desc  STATUS_YEAR  STATUS  BUSINESS_UNIT  \n",
              "0              0         2006       0              0  \n",
              "1              0         2007       0              0  \n",
              "2              0         2008       0              0  \n",
              "3              0         2009       0              0  \n",
              "4              0         2010       0              0  "
            ]
          },
          "execution_count": 29,
          "metadata": {},
          "output_type": "execute_result"
        }
      ],
      "source": [
        "df.head()"
      ]
    },
    {
      "cell_type": "code",
      "execution_count": null,
      "id": "9171eed4",
      "metadata": {
        "id": "9171eed4",
        "outputId": "29b7ad39-b421-4ebb-bde1-126a2e2ab89e"
      },
      "outputs": [
        {
          "data": {
            "image/png": "[encoded data removed]",
            "text/plain": [
              "<Figure size 1500x1000 with 2 Axes>"
            ]
          },
          "metadata": {},
          "output_type": "display_data"
        }
      ],
      "source": [
        "#  correlation matrix....\n",
        "plt.figure(figsize=(15, 10))\n",
        "sns.heatmap(df.corr(), annot=True);\n",
        "plt.title('Correlation Matrix', fontsize=20);"
      ]
    },
    {
      "cell_type": "code",
      "execution_count": null,
      "id": "50cf2508",
      "metadata": {
        "id": "50cf2508",
        "outputId": "873ff399-d72b-4ac6-8bee-a7b0d693db34"
      },
      "outputs": [
        {
          "data": {
            "text/plain": [
              "termtype_desc        0.954594\n",
              "termreason_desc      0.901363\n",
              "age                  0.132552\n",
              "job_title            0.047283\n",
              "city_name            0.037106\n",
              "gender_short         0.033245\n",
              "length_of_service    0.025808\n",
              "STATUS_YEAR          0.004374\n",
              "store_name          -0.021960\n",
              "department_name     -0.033674\n",
              "BUSINESS_UNIT       -0.056437\n",
              "Name: STATUS, dtype: float64"
            ]
          },
          "execution_count": 31,
          "metadata": {},
          "output_type": "execute_result"
        }
      ],
      "source": [
        "#checking correlation of STATUS with other features...\n",
        "\n",
        "df.corr()['STATUS'].sort_values(ascending=False)[1:]"
      ]
    },
    {
      "cell_type": "code",
      "execution_count": null,
      "id": "95d1c5e4",
      "metadata": {
        "id": "95d1c5e4"
      },
      "outputs": [],
      "source": [
        "#drop columns...\n",
        "\n",
        "df.drop(['orighiredate_key','terminationdate_key','termreason_desc','termtype_desc'],axis=1,inplace=True)"
      ]
    },
    {
      "cell_type": "code",
      "execution_count": null,
      "id": "5e4f9842",
      "metadata": {
        "id": "5e4f9842",
        "outputId": "60cee705-bf17-46ba-bc9f-8b40c05b75b8"
      },
      "outputs": [
        {
          "data": {
            "text/html": [
              "<div>\n",
              "<style scoped>\n",
              "    .dataframe tbody tr th:only-of-type {\n",
              "        vertical-align: middle;\n",
              "    }\n",
              "\n",
              "    .dataframe tbody tr th {\n",
              "        vertical-align: top;\n",
              "    }\n",
              "\n",
              "    .dataframe thead th {\n",
              "        text-align: right;\n",
              "    }\n",
              "</style>\n",
              "<table border=\"1\" class=\"dataframe\">\n",
              "  <thead>\n",
              "    <tr style=\"text-align: right;\">\n",
              "      <th></th>\n",
              "      <th>age</th>\n",
              "      <th>length_of_service</th>\n",
              "      <th>city_name</th>\n",
              "      <th>department_name</th>\n",
              "      <th>job_title</th>\n",
              "      <th>store_name</th>\n",
              "      <th>gender_short</th>\n",
              "      <th>STATUS_YEAR</th>\n",
              "      <th>STATUS</th>\n",
              "      <th>BUSINESS_UNIT</th>\n",
              "    </tr>\n",
              "  </thead>\n",
              "  <tbody>\n",
              "    <tr>\n",
              "      <th>0</th>\n",
              "      <td>52</td>\n",
              "      <td>17</td>\n",
              "      <td>0</td>\n",
              "      <td>0</td>\n",
              "      <td>0</td>\n",
              "      <td>35</td>\n",
              "      <td>0</td>\n",
              "      <td>2006</td>\n",
              "      <td>0</td>\n",
              "      <td>0</td>\n",
              "    </tr>\n",
              "    <tr>\n",
              "      <th>1</th>\n",
              "      <td>53</td>\n",
              "      <td>18</td>\n",
              "      <td>0</td>\n",
              "      <td>0</td>\n",
              "      <td>0</td>\n",
              "      <td>35</td>\n",
              "      <td>0</td>\n",
              "      <td>2007</td>\n",
              "      <td>0</td>\n",
              "      <td>0</td>\n",
              "    </tr>\n",
              "    <tr>\n",
              "      <th>2</th>\n",
              "      <td>54</td>\n",
              "      <td>19</td>\n",
              "      <td>0</td>\n",
              "      <td>0</td>\n",
              "      <td>0</td>\n",
              "      <td>35</td>\n",
              "      <td>0</td>\n",
              "      <td>2008</td>\n",
              "      <td>0</td>\n",
              "      <td>0</td>\n",
              "    </tr>\n",
              "    <tr>\n",
              "      <th>3</th>\n",
              "      <td>55</td>\n",
              "      <td>20</td>\n",
              "      <td>0</td>\n",
              "      <td>0</td>\n",
              "      <td>0</td>\n",
              "      <td>35</td>\n",
              "      <td>0</td>\n",
              "      <td>2009</td>\n",
              "      <td>0</td>\n",
              "      <td>0</td>\n",
              "    </tr>\n",
              "    <tr>\n",
              "      <th>4</th>\n",
              "      <td>56</td>\n",
              "      <td>21</td>\n",
              "      <td>0</td>\n",
              "      <td>0</td>\n",
              "      <td>0</td>\n",
              "      <td>35</td>\n",
              "      <td>0</td>\n",
              "      <td>2010</td>\n",
              "      <td>0</td>\n",
              "      <td>0</td>\n",
              "    </tr>\n",
              "  </tbody>\n",
              "</table>\n",
              "</div>"
            ],
            "text/plain": [
              "   age  length_of_service  city_name  department_name  job_title  store_name  \\\n",
              "0   52                 17          0                0          0          35   \n",
              "1   53                 18          0                0          0          35   \n",
              "2   54                 19          0                0          0          35   \n",
              "3   55                 20          0                0          0          35   \n",
              "4   56                 21          0                0          0          35   \n",
              "\n",
              "   gender_short  STATUS_YEAR  STATUS  BUSINESS_UNIT  \n",
              "0             0         2006       0              0  \n",
              "1             0         2007       0              0  \n",
              "2             0         2008       0              0  \n",
              "3             0         2009       0              0  \n",
              "4             0         2010       0              0  "
            ]
          },
          "execution_count": 34,
          "metadata": {},
          "output_type": "execute_result"
        }
      ],
      "source": [
        "df.head()"
      ]
    },
    {
      "cell_type": "code",
      "execution_count": null,
      "id": "cc9bd7f8",
      "metadata": {
        "id": "cc9bd7f8"
      },
      "outputs": [],
      "source": [
        "# train, test, evaluation function...\n",
        "\n",
        "def result(X, y, ts, rs, model):\n",
        "    \n",
        "    ''' train test split '''\n",
        "    X_train, X_test, y_train, y_test = train_test_split(X, y, test_size=ts, random_state=rs)\n",
        "    \n",
        "    ''' scaling '''\n",
        "    sc = StandardScaler()\n",
        "    X_train = sc.fit_transform(X_train)\n",
        "    X_test = sc.transform(X_test)\n",
        "    \n",
        "    ''' fit on data '''\n",
        "    model.fit(X_train, y_train)\n",
        "    \n",
        "    ''' prediction '''\n",
        "    pred = model.predict(X_test)\n",
        "    \n",
        "    ''' performance of model '''\n",
        "    print(\"Classification Report: \\n\", classification_report(y_test, pred))\n",
        "    print(\"-\" * 100)\n",
        "    print()\n",
        "    \n",
        "    print(\"Accuracy Score: \", accuracy_score(y_test, pred))\n",
        "    print(\"-\" * 100)\n",
        "    print()\n",
        "    \n",
        "    print(\"Confusion Matrix: \")\n",
        "    plt.figure(figsize=(10, 5))\n",
        "    sns.heatmap(confusion_matrix(y_test, pred), annot=True, fmt='g');\n",
        "    plt.title('Confusion Matrix', fontsize=20)"
      ]
    },
    {
      "cell_type": "code",
      "execution_count": null,
      "id": "324f1176",
      "metadata": {
        "id": "324f1176"
      },
      "outputs": [],
      "source": [
        "# independent and dependent features...\n",
        "\n",
        "X = df[['age', 'length_of_service', 'city_name', 'department_name', 'job_title', 'store_name', 'gender_short',\n",
        "       'STATUS_YEAR', 'BUSINESS_UNIT']]\n",
        "y = df[['STATUS']]"
      ]
    },
    {
      "cell_type": "markdown",
      "id": "c15d4644",
      "metadata": {
        "id": "c15d4644"
      },
      "source": [
        "# Machine learning Algorithms"
      ]
    },
    {
      "cell_type": "code",
      "execution_count": null,
      "id": "f98c1a93",
      "metadata": {
        "id": "f98c1a93",
        "outputId": "6ccadac5-185b-4c2b-d547-1f5b19580e3e"
      },
      "outputs": [
        {
          "name": "stdout",
          "output_type": "stream",
          "text": [
            "Classification Report: \n",
            "               precision    recall  f1-score   support\n",
            "\n",
            "           0       0.97      1.00      0.98     12034\n",
            "           1       0.55      0.08      0.15       380\n",
            "\n",
            "    accuracy                           0.97     12414\n",
            "   macro avg       0.76      0.54      0.57     12414\n",
            "weighted avg       0.96      0.97      0.96     12414\n",
            "\n",
            "----------------------------------------------------------------------------------------------------\n",
            "\n",
            "Accuracy Score:  0.9698727243434832\n",
            "----------------------------------------------------------------------------------------------------\n",
            "\n",
            "Confusion Matrix: \n"
          ]
        },
        {
          "data": {
            "image/png": "[encoded data removed]",
            "text/plain": [
              "<Figure size 1000x500 with 2 Axes>"
            ]
          },
          "metadata": {},
          "output_type": "display_data"
        }
      ],
      "source": [
        "#Logistic Regression...\n",
        "\n",
        "model = LogisticRegression()\n",
        "result(X, y, 0.25, 0, model)"
      ]
    },
    {
      "cell_type": "code",
      "execution_count": null,
      "id": "fe86910f",
      "metadata": {
        "id": "fe86910f",
        "outputId": "bc10928f-dee5-490a-a13d-ea54797b36da"
      },
      "outputs": [
        {
          "name": "stdout",
          "output_type": "stream",
          "text": [
            "Classification Report: \n",
            "               precision    recall  f1-score   support\n",
            "\n",
            "           0       0.99      1.00      1.00     12058\n",
            "           1       0.91      0.75      0.82       356\n",
            "\n",
            "    accuracy                           0.99     12414\n",
            "   macro avg       0.95      0.88      0.91     12414\n",
            "weighted avg       0.99      0.99      0.99     12414\n",
            "\n",
            "----------------------------------------------------------------------------------------------------\n",
            "\n",
            "Accuracy Score:  0.990736265506686\n",
            "----------------------------------------------------------------------------------------------------\n",
            "\n",
            "Confusion Matrix: \n"
          ]
        },
        {
          "data": {
            "image/png": "[encoded data removed]",
            "text/plain": [
              "<Figure size 1000x500 with 2 Axes>"
            ]
          },
          "metadata": {},
          "output_type": "display_data"
        }
      ],
      "source": [
        "#RandomForest Classifier...\n",
        "\n",
        "rf = RandomForestClassifier()\n",
        "result(X, y, 0.25, 42, rf)"
      ]
    },
    {
      "cell_type": "code",
      "execution_count": null,
      "id": "8f084854",
      "metadata": {
        "id": "8f084854",
        "outputId": "57e7db2d-d668-431d-d84a-097f6a670dde"
      },
      "outputs": [
        {
          "name": "stdout",
          "output_type": "stream",
          "text": [
            "Classification Report: \n",
            "               precision    recall  f1-score   support\n",
            "\n",
            "           0       0.98      1.00      0.99     14458\n",
            "           1       0.74      0.44      0.55       438\n",
            "\n",
            "    accuracy                           0.98     14896\n",
            "   macro avg       0.86      0.72      0.77     14896\n",
            "weighted avg       0.98      0.98      0.98     14896\n",
            "\n",
            "----------------------------------------------------------------------------------------------------\n",
            "\n",
            "Accuracy Score:  0.9790547798066596\n",
            "----------------------------------------------------------------------------------------------------\n",
            "\n",
            "Confusion Matrix: \n"
          ]
        },
        {
          "data": {
            "image/png": "[encoded data removed]",
            "text/plain": [
              "<Figure size 1000x500 with 2 Axes>"
            ]
          },
          "metadata": {},
          "output_type": "display_data"
        }
      ],
      "source": [
        "#KNN...\n",
        "\n",
        "knn = KNeighborsClassifier()\n",
        "result(X, y, 0.3, 25, knn)"
      ]
    },
    {
      "cell_type": "code",
      "execution_count": null,
      "id": "e8d83d95",
      "metadata": {
        "id": "e8d83d95"
      },
      "outputs": [],
      "source": [
        "#One Hot Encoding\n",
        "\n",
        "df1=df"
      ]
    },
    {
      "cell_type": "code",
      "execution_count": null,
      "id": "e46a2a30",
      "metadata": {
        "id": "e46a2a30"
      },
      "outputs": [],
      "source": [
        "# one hot encode the two columns\n",
        "one_hot = pd.get_dummies(df1, columns=['department_name', 'STATUS_YEAR'])\n",
        "\n",
        "df2 = one_hot"
      ]
    },
    {
      "cell_type": "code",
      "execution_count": null,
      "id": "7992e5eb",
      "metadata": {
        "id": "7992e5eb",
        "outputId": "33d2ca4b-df2e-466f-ac49-8bf134f21d41"
      },
      "outputs": [
        {
          "data": {
            "text/html": [
              "<div>\n",
              "<style scoped>\n",
              "    .dataframe tbody tr th:only-of-type {\n",
              "        vertical-align: middle;\n",
              "    }\n",
              "\n",
              "    .dataframe tbody tr th {\n",
              "        vertical-align: top;\n",
              "    }\n",
              "\n",
              "    .dataframe thead th {\n",
              "        text-align: right;\n",
              "    }\n",
              "</style>\n",
              "<table border=\"1\" class=\"dataframe\">\n",
              "  <thead>\n",
              "    <tr style=\"text-align: right;\">\n",
              "      <th></th>\n",
              "      <th>age</th>\n",
              "      <th>length_of_service</th>\n",
              "      <th>city_name</th>\n",
              "      <th>job_title</th>\n",
              "      <th>store_name</th>\n",
              "      <th>gender_short</th>\n",
              "      <th>STATUS</th>\n",
              "      <th>BUSINESS_UNIT</th>\n",
              "      <th>department_name_0</th>\n",
              "      <th>department_name_1</th>\n",
              "      <th>...</th>\n",
              "      <th>STATUS_YEAR_2006</th>\n",
              "      <th>STATUS_YEAR_2007</th>\n",
              "      <th>STATUS_YEAR_2008</th>\n",
              "      <th>STATUS_YEAR_2009</th>\n",
              "      <th>STATUS_YEAR_2010</th>\n",
              "      <th>STATUS_YEAR_2011</th>\n",
              "      <th>STATUS_YEAR_2012</th>\n",
              "      <th>STATUS_YEAR_2013</th>\n",
              "      <th>STATUS_YEAR_2014</th>\n",
              "      <th>STATUS_YEAR_2015</th>\n",
              "    </tr>\n",
              "  </thead>\n",
              "  <tbody>\n",
              "    <tr>\n",
              "      <th>0</th>\n",
              "      <td>52</td>\n",
              "      <td>17</td>\n",
              "      <td>0</td>\n",
              "      <td>0</td>\n",
              "      <td>35</td>\n",
              "      <td>0</td>\n",
              "      <td>0</td>\n",
              "      <td>0</td>\n",
              "      <td>1</td>\n",
              "      <td>0</td>\n",
              "      <td>...</td>\n",
              "      <td>1</td>\n",
              "      <td>0</td>\n",
              "      <td>0</td>\n",
              "      <td>0</td>\n",
              "      <td>0</td>\n",
              "      <td>0</td>\n",
              "      <td>0</td>\n",
              "      <td>0</td>\n",
              "      <td>0</td>\n",
              "      <td>0</td>\n",
              "    </tr>\n",
              "    <tr>\n",
              "      <th>1</th>\n",
              "      <td>53</td>\n",
              "      <td>18</td>\n",
              "      <td>0</td>\n",
              "      <td>0</td>\n",
              "      <td>35</td>\n",
              "      <td>0</td>\n",
              "      <td>0</td>\n",
              "      <td>0</td>\n",
              "      <td>1</td>\n",
              "      <td>0</td>\n",
              "      <td>...</td>\n",
              "      <td>0</td>\n",
              "      <td>1</td>\n",
              "      <td>0</td>\n",
              "      <td>0</td>\n",
              "      <td>0</td>\n",
              "      <td>0</td>\n",
              "      <td>0</td>\n",
              "      <td>0</td>\n",
              "      <td>0</td>\n",
              "      <td>0</td>\n",
              "    </tr>\n",
              "    <tr>\n",
              "      <th>2</th>\n",
              "      <td>54</td>\n",
              "      <td>19</td>\n",
              "      <td>0</td>\n",
              "      <td>0</td>\n",
              "      <td>35</td>\n",
              "      <td>0</td>\n",
              "      <td>0</td>\n",
              "      <td>0</td>\n",
              "      <td>1</td>\n",
              "      <td>0</td>\n",
              "      <td>...</td>\n",
              "      <td>0</td>\n",
              "      <td>0</td>\n",
              "      <td>1</td>\n",
              "      <td>0</td>\n",
              "      <td>0</td>\n",
              "      <td>0</td>\n",
              "      <td>0</td>\n",
              "      <td>0</td>\n",
              "      <td>0</td>\n",
              "      <td>0</td>\n",
              "    </tr>\n",
              "    <tr>\n",
              "      <th>3</th>\n",
              "      <td>55</td>\n",
              "      <td>20</td>\n",
              "      <td>0</td>\n",
              "      <td>0</td>\n",
              "      <td>35</td>\n",
              "      <td>0</td>\n",
              "      <td>0</td>\n",
              "      <td>0</td>\n",
              "      <td>1</td>\n",
              "      <td>0</td>\n",
              "      <td>...</td>\n",
              "      <td>0</td>\n",
              "      <td>0</td>\n",
              "      <td>0</td>\n",
              "      <td>1</td>\n",
              "      <td>0</td>\n",
              "      <td>0</td>\n",
              "      <td>0</td>\n",
              "      <td>0</td>\n",
              "      <td>0</td>\n",
              "      <td>0</td>\n",
              "    </tr>\n",
              "    <tr>\n",
              "      <th>4</th>\n",
              "      <td>56</td>\n",
              "      <td>21</td>\n",
              "      <td>0</td>\n",
              "      <td>0</td>\n",
              "      <td>35</td>\n",
              "      <td>0</td>\n",
              "      <td>0</td>\n",
              "      <td>0</td>\n",
              "      <td>1</td>\n",
              "      <td>0</td>\n",
              "      <td>...</td>\n",
              "      <td>0</td>\n",
              "      <td>0</td>\n",
              "      <td>0</td>\n",
              "      <td>0</td>\n",
              "      <td>1</td>\n",
              "      <td>0</td>\n",
              "      <td>0</td>\n",
              "      <td>0</td>\n",
              "      <td>0</td>\n",
              "      <td>0</td>\n",
              "    </tr>\n",
              "  </tbody>\n",
              "</table>\n",
              "<p>5 rows × 39 columns</p>\n",
              "</div>"
            ],
            "text/plain": [
              "   age  length_of_service  city_name  job_title  store_name  gender_short  \\\n",
              "0   52                 17          0          0          35             0   \n",
              "1   53                 18          0          0          35             0   \n",
              "2   54                 19          0          0          35             0   \n",
              "3   55                 20          0          0          35             0   \n",
              "4   56                 21          0          0          35             0   \n",
              "\n",
              "   STATUS  BUSINESS_UNIT  department_name_0  department_name_1  ...  \\\n",
              "0       0              0                  1                  0  ...   \n",
              "1       0              0                  1                  0  ...   \n",
              "2       0              0                  1                  0  ...   \n",
              "3       0              0                  1                  0  ...   \n",
              "4       0              0                  1                  0  ...   \n",
              "\n",
              "   STATUS_YEAR_2006  STATUS_YEAR_2007  STATUS_YEAR_2008  STATUS_YEAR_2009  \\\n",
              "0                 1                 0                 0                 0   \n",
              "1                 0                 1                 0                 0   \n",
              "2                 0                 0                 1                 0   \n",
              "3                 0                 0                 0                 1   \n",
              "4                 0                 0                 0                 0   \n",
              "\n",
              "   STATUS_YEAR_2010  STATUS_YEAR_2011  STATUS_YEAR_2012  STATUS_YEAR_2013  \\\n",
              "0                 0                 0                 0                 0   \n",
              "1                 0                 0                 0                 0   \n",
              "2                 0                 0                 0                 0   \n",
              "3                 0                 0                 0                 0   \n",
              "4                 1                 0                 0                 0   \n",
              "\n",
              "   STATUS_YEAR_2014  STATUS_YEAR_2015  \n",
              "0                 0                 0  \n",
              "1                 0                 0  \n",
              "2                 0                 0  \n",
              "3                 0                 0  \n",
              "4                 0                 0  \n",
              "\n",
              "[5 rows x 39 columns]"
            ]
          },
          "execution_count": 45,
          "metadata": {},
          "output_type": "execute_result"
        }
      ],
      "source": [
        "df2.head()"
      ]
    },
    {
      "cell_type": "code",
      "execution_count": null,
      "id": "0dd5954a",
      "metadata": {
        "id": "0dd5954a"
      },
      "outputs": [],
      "source": [
        "# Lazypredict"
      ]
    },
    {
      "cell_type": "code",
      "execution_count": null,
      "id": "559842cd",
      "metadata": {
        "id": "559842cd"
      },
      "outputs": [],
      "source": [
        "! pip install lazypredict\n"
      ]
    },
    {
      "cell_type": "code",
      "execution_count": null,
      "id": "55fd55c5",
      "metadata": {
        "id": "55fd55c5"
      },
      "outputs": [],
      "source": [
        "import lazypredict"
      ]
    },
    {
      "cell_type": "code",
      "execution_count": null,
      "id": "8ee4fc05",
      "metadata": {
        "id": "8ee4fc05"
      },
      "outputs": [],
      "source": [
        "from lazypredict.Supervised import LazyClassifier\n",
        "from sklearn.datasets import load_breast_cancer\n",
        "from sklearn.model_selection import train_test_split"
      ]
    }
  ],
  "metadata": {
    "kernelspec": {
      "display_name": "Python 3 (ipykernel)",
      "language": "python",
      "name": "python3"
    },
    "language_info": {
      "codemirror_mode": {
        "name": "ipython",
        "version": 3
      },
      "file_extension": ".py",
      "mimetype": "text/x-python",
      "name": "python",
      "nbconvert_exporter": "python",
      "pygments_lexer": "ipython3",
      "version": "3.9.13"
    },
    "colab": {
      "provenance": [],
      "include_colab_link": true
    }
  },
  "nbformat": 4,
  "nbformat_minor": 5
}